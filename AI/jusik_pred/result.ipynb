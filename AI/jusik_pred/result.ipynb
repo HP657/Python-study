{
 "cells": [
  {
   "cell_type": "code",
   "execution_count": null,
   "metadata": {},
   "outputs": [],
   "source": [
    "import pandas as pd\n",
    "from tensorflow.keras.models import load_model\n",
    "from sklearn.preprocessing import MinMaxScaler\n",
    "import joblib\n",
    "import FinanceDataReader as fdr\n",
    "import numpy as np\n",
    "\n",
    "model = load_model('full_kospi_model.h5')"
   ]
  },
  {
   "cell_type": "code",
   "execution_count": null,
   "metadata": {},
   "outputs": [],
   "source": [
    "stock_code = input(\"종목코드 : ex) 066570 :\")\n",
    "\n",
    "stock_data = fdr.DataReader(stock_code)\n",
    "\n",
    "last_day_data = stock_data.iloc[-1]\n",
    "\n",
    "num_data_points = 50 # 10일간의 데이터로 학습해서 10일 추천\n",
    "# 많은 일수를 넣을수록 정확하다고 생각함\n",
    "# 급격한 변동이 있을땐 일수를 늘려보는것도 좋다\n",
    "# num_data_points = int(input(\"일수 관여:\"))\n",
    "\n",
    "model_input = []\n",
    "for i in range(num_data_points):\n",
    "    day_data = stock_data.iloc[-(num_data_points - i)]\n",
    "    model_input.append([day_data['Close'], day_data['Volume']])\n",
    "\n",
    "model_input = np.array([model_input])\n",
    "predicted_price = model.predict(model_input)\n",
    "\n",
    "current_price = last_day_data['Close']\n",
    "pred_price = current_price * predicted_price\n",
    "\n",
    "if predicted_price > 1:\n",
    "    print(\"주식 가격은 상승할 것으로 예측됩니다.\")\n",
    "else:\n",
    "    print(\"주식 가격은 하락할 것으로 예측됩니다.\")\n",
    "print(f\"현 가격 : {int(current_price)}원\")\n",
    "print(f\"예측 값 : {int(pred_price)}원\")"
   ]
  },
  {
   "cell_type": "code",
   "execution_count": null,
   "metadata": {},
   "outputs": [],
   "source": [
    "import matplotlib.pyplot as plt\n",
    "from matplotlib import font_manager, rc\n",
    "\n",
    "font_path = \"C:/Windows/Fonts/malgun.ttf\".\n",
    "font_name = font_manager.FontProperties(fname=font_path).get_name()\n",
    "rc('font', family=font_name)\n",
    "\n",
    "plt.figure(figsize=(12, 6))\n",
    "\n",
    "# 실제 주가 데이터 그래프\n",
    "plt.plot(stock_data.index, stock_data['Close'], label='주가', color='blue')\n",
    "\n",
    "# 예측된 주가 표시\n",
    "next_date = stock_data.index[-1] + pd.DateOffset(1)\n",
    "plt.scatter(next_date, pred_price, color='red', label='예측된 다음날 종가')\n",
    "plt.text(next_date, pred_price, f'{int(pred_price)}원', fontsize=10, va='bottom', ha='left', color='red')\n",
    "\n",
    "# 현재 가격 표시\n",
    "plt.scatter(stock_data.index[-1], stock_data['Close'][-1], color='green', label='마지막 종가')\n",
    "plt.text(stock_data.index[-1], stock_data['Close'][-1], f'{int(stock_data[\"Close\"][-1])}원', fontsize=10, va='bottom', ha='left', color='green')\n",
    "\n",
    "plt.title('주가 예측')\n",
    "plt.xlabel('날짜')\n",
    "plt.ylabel('가격')\n",
    "plt.legend()\n",
    "plt.grid(True)\n",
    "plt.show()\n"
   ]
  },
  {
   "cell_type": "code",
   "execution_count": null,
   "metadata": {},
   "outputs": [],
   "source": []
  }
 ],
 "metadata": {
  "kernelspec": {
   "display_name": "Python 3",
   "language": "python",
   "name": "python3"
  },
  "language_info": {
   "codemirror_mode": {
    "name": "ipython",
    "version": 3
   },
   "file_extension": ".py",
   "mimetype": "text/x-python",
   "name": "python",
   "nbconvert_exporter": "python",
   "pygments_lexer": "ipython3",
   "version": "3.11.7"
  }
 },
 "nbformat": 4,
 "nbformat_minor": 2
}
